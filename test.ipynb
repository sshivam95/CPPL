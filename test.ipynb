{
 "cells": [
  {
   "cell_type": "code",
   "execution_count": 1,
   "metadata": {},
   "outputs": [],
   "source": [
    "import argparse\n",
    "\n",
    "\n",
    "parser = argparse.ArgumentParser(description=\"Start CPPL Tournament\")\n",
    "\n",
    "################## CPPL Arguments ##################\n",
    "parser.add_argument(\n",
    "    \"-d\",\n",
    "    \"--directory\",\n",
    "    type=str,\n",
    "    default=\"SWGCP_only_5000\",\n",
    "    help=\"Directory for instances\",\n",
    ")\n",
    "parser.add_argument(\n",
    "    \"-s\",\n",
    "    \"--solver\",\n",
    "    type=str,\n",
    "    default=\"cadical\",\n",
    "    help=\"Solver/math. model as .py\",\n",
    ")\n",
    "parser.add_argument(\n",
    "    \"-to\",\n",
    "    \"--timeout\",\n",
    "    type=int,\n",
    "    default=300,\n",
    "    help=\"\"\"Stop solving single instance after (int) seconds [300]\"\"\",\n",
    ")\n",
    "parser.add_argument(\n",
    "    \"-nc\",\n",
    "    \"--contenders\",\n",
    "    type=int,\n",
    "    default=30,\n",
    "    help=\"The number of contenders [30]\",\n",
    ")\n",
    "parser.add_argument(\n",
    "    \"-keeptop\",\n",
    "    \"--top_to_keep\",\n",
    "    type=int,\n",
    "    default=2,\n",
    "    help=\"\"\"Number of top contenders to get chosen for game [2]\"\"\",\n",
    ")\n",
    "parser.add_argument(\n",
    "    \"-p\", \"--pws\", type=str, default=None, help=\"Custom Parameter Genome []\"\n",
    ")\n",
    "parser.add_argument(\n",
    "    \"-usedata\",\n",
    "    \"--data\",\n",
    "    type=str,\n",
    "    default=None,\n",
    "    help=\"\"\"Type y if prior gene and score data should be used []\"\"\",\n",
    ")\n",
    "parser.add_argument(\n",
    "    \"-experimental\",\n",
    "    \"--exp\",\n",
    "    type=str,\n",
    "    default=None,\n",
    "    help=\"\"\"Type y if prior gene and score data should be experimental (Pool_exp.txt) []\"\"\",\n",
    ")\n",
    "parser.add_argument(\n",
    "    \"-ch\",\n",
    "    \"--chance\",\n",
    "    type=int,\n",
    "    default=25,\n",
    "    help=\"\"\"Chance to replace gene randomly in percent (int: 0 - 100) [25]\"\"\",\n",
    ")\n",
    "parser.add_argument(\n",
    "    \"-m\",\n",
    "    \"--mutate\",\n",
    "    type=int,\n",
    "    default=10,\n",
    "    help=\"\"\"Chance for mutation in crossover process in percent (int: 0 - 100) [10]\"\"\",\n",
    ")\n",
    "parser.add_argument(\n",
    "    \"-k\",\n",
    "    \"--kill\",\n",
    "    type=float,\n",
    "    default=5,\n",
    "    help=\"\"\"Contenders with a variance higher than this are killed and replaced (float) [5]\"\"\",\n",
    ")\n",
    "parser.add_argument(\n",
    "    \"-tn\",\n",
    "    \"--train_number\",\n",
    "    type=float,\n",
    "    default=None,\n",
    "    help=\"\"\"How many of the first instances are to be trained on before starting (int) [None] \"\"\",\n",
    ")\n",
    "parser.add_argument(\n",
    "    \"-tr\",\n",
    "    \"--train_rounds\",\n",
    "    type=float,\n",
    "    default=0,\n",
    "    help=\"\"\"How many rounds are the first -tn instances to be trained on (int) [1] \"\"\",\n",
    ")\n",
    "parser.add_argument(\n",
    "    \"-fo\",\n",
    "    \"--file_order\",\n",
    "    type=str,\n",
    "    default=\"ascending\",\n",
    "    help=\"\"\"Specify the order by which the problem instances are solved\"\"\",\n",
    ")\n",
    "parser.add_argument(\n",
    "    \"-nc_pca_f\",\n",
    "    \"--nc_pca_f\",\n",
    "    type=int,\n",
    "    default=7,\n",
    "    help=\"\"\"Number of the dimensions for the PCA of the instance features \"\"\",\n",
    ")\n",
    "parser.add_argument(\n",
    "    \"-nc_pca_p\",\n",
    "    \"--nc_pca_p\",\n",
    "    type=int,\n",
    "    default=10,\n",
    "    help=\"\"\"Number of the dimensions for the PCA of the parameter (features) \"\"\",\n",
    ")\n",
    "parser.add_argument(\n",
    "    \"-jfm\",\n",
    "    \"--jfm\",\n",
    "    type=str,\n",
    "    default=\"cancatenation\",\n",
    "    help=\"\"\"Mode of the joined feature map\"\"\",\n",
    ")\n",
    "parser.add_argument(\n",
    "    \"-omega\",\n",
    "    \"--omega\",\n",
    "    type=float,\n",
    "    default=0.001,\n",
    "    help=\"\"\"Omega parameter for CPPL\"\"\",\n",
    ")\n",
    "parser.add_argument(\n",
    "    \"-gamma\", \"--gamma\", type=float, default=1, help=\"\"\"Gamma parameter for CPPL\"\"\"\n",
    ")\n",
    "parser.add_argument(\n",
    "    \"-alpha\",\n",
    "    \"--alpha\",\n",
    "    type=float,\n",
    "    default=0.2,\n",
    "    help=\"\"\"Alpha parameter for CPPL\"\"\",\n",
    ")\n",
    "parser.add_argument(\n",
    "    \"-tfn\",\n",
    "    \"--times_file_name\",\n",
    "    type=str,\n",
    "    default=\"Times_per_instance_CPPL\",\n",
    "    help=\"\"\"Name of the file which the times needed to solve instances are tracked in\"\"\",\n",
    ")\n",
    "parser.add_argument(\n",
    "    \"-pl\",\n",
    "    \"--paramlimit\",\n",
    "    type=float,\n",
    "    default=100000,\n",
    "    help=\"\"\"Limit for the possible absolute value of a parameter for it to be normed to log space before CPPL computation\"\"\",\n",
    ")\n",
    "parser.add_argument(\n",
    "    \"-bp\",\n",
    "    \"--baselineperf\",\n",
    "    type=bool,\n",
    "    default=False,\n",
    "    help=\"\"\"Set to true if only default parameterization should run\"\"\",\n",
    ")\n",
    "\n",
    "args, unknown = parser.parse_known_args()"
   ]
  },
  {
   "cell_type": "code",
   "execution_count": 2,
   "metadata": {},
   "outputs": [],
   "source": [
    "from CPPL_class.cppl_base import CPPLBase\n",
    "\n",
    "base = CPPLBase(args=args)"
   ]
  },
  {
   "cell_type": "code",
   "execution_count": 4,
   "metadata": {},
   "outputs": [
    {
     "name": "stdout",
     "output_type": "stream",
     "text": [
      "154\n"
     ]
    }
   ],
   "source": [
    "base.grad_op_sum.shape\n",
    "print(base._get_candidates_pool_dimensions())"
   ]
  },
  {
   "cell_type": "code",
   "execution_count": 5,
   "metadata": {},
   "outputs": [
    {
     "data": {
      "text/plain": [
       "'polynomial'"
      ]
     },
     "execution_count": 5,
     "metadata": {},
     "output_type": "execute_result"
    }
   ],
   "source": [
    "base.joint_featured_map_mode"
   ]
  },
  {
   "cell_type": "code",
   "execution_count": 9,
   "metadata": {},
   "outputs": [
    {
     "data": {
      "text/plain": [
       "array([0., 0., 0., 0., 0., 0., 0., 0., 0., 0., 0., 0., 0., 0., 0., 0., 0.,\n",
       "       0., 0., 0., 0., 0., 0., 0., 0., 0., 0., 0., 0., 0., 0., 0., 0., 0.,\n",
       "       0., 0., 0., 0., 0., 0., 0., 0., 0., 0., 0., 0., 0., 0., 0., 0., 0.,\n",
       "       0., 0., 0., 0., 0., 0., 0., 0., 0., 0., 0., 0., 0., 0., 0., 0., 0.,\n",
       "       0., 0., 0., 0., 0., 0., 0., 0., 0., 0., 0., 0., 0., 0., 0., 0., 0.,\n",
       "       0., 0., 0., 0., 0., 0., 0., 0., 0., 0., 0., 0., 0., 0., 0., 0., 0.,\n",
       "       0., 0., 0., 0., 0., 0., 0., 0., 0., 0., 0., 0., 0., 0., 0., 0., 0.,\n",
       "       0., 0., 0., 0., 0., 0., 0., 0., 0., 0., 0., 0., 0., 0., 0., 0., 0.,\n",
       "       0., 0., 0., 0., 0., 0., 0., 0., 0., 0., 0., 0., 0., 0., 0., 0., 0.,\n",
       "       0.])"
      ]
     },
     "execution_count": 9,
     "metadata": {},
     "output_type": "execute_result"
    }
   ],
   "source": [
    "base.grad"
   ]
  }
 ],
 "metadata": {
  "kernelspec": {
   "display_name": "Python 3.8.10 ('venv': venv)",
   "language": "python",
   "name": "python3"
  },
  "language_info": {
   "codemirror_mode": {
    "name": "ipython",
    "version": 3
   },
   "file_extension": ".py",
   "mimetype": "text/x-python",
   "name": "python",
   "nbconvert_exporter": "python",
   "pygments_lexer": "ipython3",
   "version": "3.8.10"
  },
  "orig_nbformat": 4,
  "vscode": {
   "interpreter": {
    "hash": "0340e0d142f0fadee085f4363ff39f9d89be0f6351ebfaf180095bbe9ba6c570"
   }
  }
 },
 "nbformat": 4,
 "nbformat_minor": 2
}
